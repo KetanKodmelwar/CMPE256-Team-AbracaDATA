{
 "cells": [
  {
   "cell_type": "markdown",
   "metadata": {},
   "source": [
    "# Import Libraries\n",
    "Also imported the csv file for user and reviews. Stored it in dfUserReviews "
   ]
  },
  {
   "cell_type": "code",
   "execution_count": 1,
   "metadata": {},
   "outputs": [
    {
     "data": {
      "text/plain": [
       "(17950, 7)"
      ]
     },
     "execution_count": 1,
     "metadata": {},
     "output_type": "execute_result"
    }
   ],
   "source": [
    "import csv\n",
    "import ast\n",
    "import json\n",
    "import pandas as pd\n",
    "\n",
    "dfUserReviews=pd.read_csv('australian_user_reviews_output.csv')\n",
    "dfUserReviews.head()\n",
    "dfUserReviews.describe()\n",
    "dfUserReviews.shape"
   ]
  },
  {
   "cell_type": "markdown",
   "metadata": {},
   "source": [
    "# Import csv files\n",
    "Imported the csv file for user and items and store it in dfUserItems"
   ]
  },
  {
   "cell_type": "code",
   "execution_count": 2,
   "metadata": {},
   "outputs": [
    {
     "data": {
      "text/plain": [
       "(85876, 6)"
      ]
     },
     "execution_count": 2,
     "metadata": {},
     "output_type": "execute_result"
    }
   ],
   "source": [
    "dfUserItems=pd.read_csv('australian_users_items_output.csv')\n",
    "dfUserItems.head()\n",
    "dfUserItems.describe()\n",
    "dfUserItems.shape"
   ]
  },
  {
   "cell_type": "markdown",
   "metadata": {},
   "source": [
    "# Merge\n",
    "Merge the previous df into one for further use"
   ]
  },
  {
   "cell_type": "code",
   "execution_count": 3,
   "metadata": {},
   "outputs": [
    {
     "data": {
      "text/html": [
       "<div>\n",
       "<style scoped>\n",
       "    .dataframe tbody tr th:only-of-type {\n",
       "        vertical-align: middle;\n",
       "    }\n",
       "\n",
       "    .dataframe tbody tr th {\n",
       "        vertical-align: top;\n",
       "    }\n",
       "\n",
       "    .dataframe thead th {\n",
       "        text-align: right;\n",
       "    }\n",
       "</style>\n",
       "<table border=\"1\" class=\"dataframe\">\n",
       "  <thead>\n",
       "    <tr style=\"text-align: right;\">\n",
       "      <th></th>\n",
       "      <th>user_id</th>\n",
       "      <th>user_url_x</th>\n",
       "      <th>funny</th>\n",
       "      <th>posted</th>\n",
       "      <th>last_edited</th>\n",
       "      <th>item_id</th>\n",
       "      <th>recommend</th>\n",
       "      <th>user_url_y</th>\n",
       "      <th>items_count</th>\n",
       "      <th>item_name</th>\n",
       "      <th>playtime_forever</th>\n",
       "    </tr>\n",
       "  </thead>\n",
       "  <tbody>\n",
       "    <tr>\n",
       "      <th>0</th>\n",
       "      <td>76561197970982479</td>\n",
       "      <td>http://steamcommunity.com/profiles/76561197970...</td>\n",
       "      <td>NaN</td>\n",
       "      <td>Posted November 5, 2011.</td>\n",
       "      <td>NaN</td>\n",
       "      <td>1250</td>\n",
       "      <td>True</td>\n",
       "      <td>http://steamcommunity.com/profiles/76561197970...</td>\n",
       "      <td>277.0</td>\n",
       "      <td>Killing Floor</td>\n",
       "      <td>10006.0</td>\n",
       "    </tr>\n",
       "    <tr>\n",
       "      <th>1</th>\n",
       "      <td>76561197970982479</td>\n",
       "      <td>http://steamcommunity.com/profiles/76561197970...</td>\n",
       "      <td>NaN</td>\n",
       "      <td>Posted July 15, 2011.</td>\n",
       "      <td>NaN</td>\n",
       "      <td>22200</td>\n",
       "      <td>True</td>\n",
       "      <td>http://steamcommunity.com/profiles/76561197970...</td>\n",
       "      <td>277.0</td>\n",
       "      <td>Zeno Clash</td>\n",
       "      <td>271.0</td>\n",
       "    </tr>\n",
       "    <tr>\n",
       "      <th>2</th>\n",
       "      <td>76561197970982479</td>\n",
       "      <td>http://steamcommunity.com/profiles/76561197970...</td>\n",
       "      <td>NaN</td>\n",
       "      <td>Posted April 21, 2011.</td>\n",
       "      <td>NaN</td>\n",
       "      <td>43110</td>\n",
       "      <td>True</td>\n",
       "      <td>http://steamcommunity.com/profiles/76561197970...</td>\n",
       "      <td>277.0</td>\n",
       "      <td>Metro 2033</td>\n",
       "      <td>834.0</td>\n",
       "    </tr>\n",
       "    <tr>\n",
       "      <th>3</th>\n",
       "      <td>maplemage</td>\n",
       "      <td>http://steamcommunity.com/id/maplemage</td>\n",
       "      <td>3 people found this review funny</td>\n",
       "      <td>Posted April 15, 2014.</td>\n",
       "      <td>NaN</td>\n",
       "      <td>211420</td>\n",
       "      <td>True</td>\n",
       "      <td>NaN</td>\n",
       "      <td>NaN</td>\n",
       "      <td>NaN</td>\n",
       "      <td>NaN</td>\n",
       "    </tr>\n",
       "    <tr>\n",
       "      <th>4</th>\n",
       "      <td>maplemage</td>\n",
       "      <td>http://steamcommunity.com/id/maplemage</td>\n",
       "      <td>1 person found this review funny</td>\n",
       "      <td>Posted December 23, 2013.</td>\n",
       "      <td>NaN</td>\n",
       "      <td>211820</td>\n",
       "      <td>True</td>\n",
       "      <td>NaN</td>\n",
       "      <td>NaN</td>\n",
       "      <td>NaN</td>\n",
       "      <td>NaN</td>\n",
       "    </tr>\n",
       "    <tr>\n",
       "      <th>5</th>\n",
       "      <td>maplemage</td>\n",
       "      <td>http://steamcommunity.com/id/maplemage</td>\n",
       "      <td>2 people found this review funny</td>\n",
       "      <td>Posted March 14, 2014.</td>\n",
       "      <td>NaN</td>\n",
       "      <td>730</td>\n",
       "      <td>True</td>\n",
       "      <td>NaN</td>\n",
       "      <td>NaN</td>\n",
       "      <td>NaN</td>\n",
       "      <td>NaN</td>\n",
       "    </tr>\n",
       "    <tr>\n",
       "      <th>6</th>\n",
       "      <td>maplemage</td>\n",
       "      <td>http://steamcommunity.com/id/maplemage</td>\n",
       "      <td>NaN</td>\n",
       "      <td>Posted July 11, 2013.</td>\n",
       "      <td>NaN</td>\n",
       "      <td>204300</td>\n",
       "      <td>True</td>\n",
       "      <td>NaN</td>\n",
       "      <td>NaN</td>\n",
       "      <td>NaN</td>\n",
       "      <td>NaN</td>\n",
       "    </tr>\n",
       "    <tr>\n",
       "      <th>7</th>\n",
       "      <td>76561198156664158</td>\n",
       "      <td>http://steamcommunity.com/profiles/76561198156...</td>\n",
       "      <td>NaN</td>\n",
       "      <td>Posted June 16.</td>\n",
       "      <td>NaN</td>\n",
       "      <td>252950</td>\n",
       "      <td>True</td>\n",
       "      <td>NaN</td>\n",
       "      <td>NaN</td>\n",
       "      <td>NaN</td>\n",
       "      <td>NaN</td>\n",
       "    </tr>\n",
       "    <tr>\n",
       "      <th>8</th>\n",
       "      <td>WeiEDKrSat</td>\n",
       "      <td>http://steamcommunity.com/id/WeiEDKrSat</td>\n",
       "      <td>NaN</td>\n",
       "      <td>Posted December 25, 2013.</td>\n",
       "      <td>NaN</td>\n",
       "      <td>4000</td>\n",
       "      <td>True</td>\n",
       "      <td>NaN</td>\n",
       "      <td>NaN</td>\n",
       "      <td>NaN</td>\n",
       "      <td>NaN</td>\n",
       "    </tr>\n",
       "    <tr>\n",
       "      <th>9</th>\n",
       "      <td>death-hunter</td>\n",
       "      <td>http://steamcommunity.com/id/death-hunter</td>\n",
       "      <td>NaN</td>\n",
       "      <td>Posted September 5, 2015.</td>\n",
       "      <td>NaN</td>\n",
       "      <td>232090</td>\n",
       "      <td>True</td>\n",
       "      <td>NaN</td>\n",
       "      <td>NaN</td>\n",
       "      <td>NaN</td>\n",
       "      <td>NaN</td>\n",
       "    </tr>\n",
       "  </tbody>\n",
       "</table>\n",
       "</div>"
      ],
      "text/plain": [
       "             user_id                                         user_url_x  \\\n",
       "0  76561197970982479  http://steamcommunity.com/profiles/76561197970...   \n",
       "1  76561197970982479  http://steamcommunity.com/profiles/76561197970...   \n",
       "2  76561197970982479  http://steamcommunity.com/profiles/76561197970...   \n",
       "3          maplemage             http://steamcommunity.com/id/maplemage   \n",
       "4          maplemage             http://steamcommunity.com/id/maplemage   \n",
       "5          maplemage             http://steamcommunity.com/id/maplemage   \n",
       "6          maplemage             http://steamcommunity.com/id/maplemage   \n",
       "7  76561198156664158  http://steamcommunity.com/profiles/76561198156...   \n",
       "8         WeiEDKrSat            http://steamcommunity.com/id/WeiEDKrSat   \n",
       "9       death-hunter          http://steamcommunity.com/id/death-hunter   \n",
       "\n",
       "                              funny                     posted last_edited  \\\n",
       "0                               NaN   Posted November 5, 2011.         NaN   \n",
       "1                               NaN      Posted July 15, 2011.         NaN   \n",
       "2                               NaN     Posted April 21, 2011.         NaN   \n",
       "3  3 people found this review funny     Posted April 15, 2014.         NaN   \n",
       "4  1 person found this review funny  Posted December 23, 2013.         NaN   \n",
       "5  2 people found this review funny     Posted March 14, 2014.         NaN   \n",
       "6                               NaN      Posted July 11, 2013.         NaN   \n",
       "7                               NaN            Posted June 16.         NaN   \n",
       "8                               NaN  Posted December 25, 2013.         NaN   \n",
       "9                               NaN  Posted September 5, 2015.         NaN   \n",
       "\n",
       "   item_id recommend                                         user_url_y  \\\n",
       "0     1250      True  http://steamcommunity.com/profiles/76561197970...   \n",
       "1    22200      True  http://steamcommunity.com/profiles/76561197970...   \n",
       "2    43110      True  http://steamcommunity.com/profiles/76561197970...   \n",
       "3   211420      True                                                NaN   \n",
       "4   211820      True                                                NaN   \n",
       "5      730      True                                                NaN   \n",
       "6   204300      True                                                NaN   \n",
       "7   252950      True                                                NaN   \n",
       "8     4000      True                                                NaN   \n",
       "9   232090      True                                                NaN   \n",
       "\n",
       "   items_count      item_name  playtime_forever  \n",
       "0        277.0  Killing Floor           10006.0  \n",
       "1        277.0     Zeno Clash             271.0  \n",
       "2        277.0     Metro 2033             834.0  \n",
       "3          NaN            NaN               NaN  \n",
       "4          NaN            NaN               NaN  \n",
       "5          NaN            NaN               NaN  \n",
       "6          NaN            NaN               NaN  \n",
       "7          NaN            NaN               NaN  \n",
       "8          NaN            NaN               NaN  \n",
       "9          NaN            NaN               NaN  "
      ]
     },
     "execution_count": 3,
     "metadata": {},
     "output_type": "execute_result"
    }
   ],
   "source": [
    "mergedStuff = pd.merge(dfUserReviews, dfUserItems, on=['item_id','user_id'], how='outer')\n",
    "mergedStuff.head(10)"
   ]
  },
  {
   "cell_type": "markdown",
   "metadata": {},
   "source": [
    "# Create New DF\n",
    "Create a new dataframe which has only user_id, item_id and recommend values"
   ]
  },
  {
   "cell_type": "code",
   "execution_count": 4,
   "metadata": {},
   "outputs": [],
   "source": [
    "df=mergedStuff[['user_id','item_id','recommend']]"
   ]
  },
  {
   "cell_type": "code",
   "execution_count": 5,
   "metadata": {},
   "outputs": [
    {
     "data": {
      "text/plain": [
       "user_id      object\n",
       "item_id       int64\n",
       "recommend    object\n",
       "dtype: object"
      ]
     },
     "execution_count": 5,
     "metadata": {},
     "output_type": "execute_result"
    }
   ],
   "source": [
    "df.head()\n",
    "df.dtypes"
   ]
  },
  {
   "cell_type": "markdown",
   "metadata": {},
   "source": [
    "# Drop Null Values\n",
    "Keep only those values which are required for training and testing. Thr NaN values are dropped"
   ]
  },
  {
   "cell_type": "code",
   "execution_count": 6,
   "metadata": {},
   "outputs": [],
   "source": [
    "dfTF=df.dropna()"
   ]
  },
  {
   "cell_type": "code",
   "execution_count": 7,
   "metadata": {},
   "outputs": [
    {
     "name": "stderr",
     "output_type": "stream",
     "text": [
      "C:\\Users\\ketan\\Anaconda3\\lib\\site-packages\\ipykernel_launcher.py:1: SettingWithCopyWarning: \n",
      "A value is trying to be set on a copy of a slice from a DataFrame.\n",
      "Try using .loc[row_indexer,col_indexer] = value instead\n",
      "\n",
      "See the caveats in the documentation: http://pandas.pydata.org/pandas-docs/stable/indexing.html#indexing-view-versus-copy\n",
      "  \"\"\"Entry point for launching an IPython kernel.\n"
     ]
    }
   ],
   "source": [
    "dfTF['recommend']=dfTF['recommend'].astype(int)"
   ]
  },
  {
   "cell_type": "markdown",
   "metadata": {},
   "source": [
    "# Import libraries for Model Creation"
   ]
  },
  {
   "cell_type": "code",
   "execution_count": 8,
   "metadata": {},
   "outputs": [],
   "source": [
    "import pandas as pd\n",
    "from surprise import Dataset\n",
    "from surprise import accuracy\n",
    "from surprise import Reader\n",
    "from surprise import BaselineOnly\n",
    "from surprise import KNNBasic\n",
    "from surprise import SVD\n",
    "from surprise.model_selection import train_test_split\n",
    "from surprise.model_selection import ShuffleSplit\n",
    "import csv"
   ]
  },
  {
   "cell_type": "code",
   "execution_count": 9,
   "metadata": {},
   "outputs": [],
   "source": [
    "reader = Reader(rating_scale=(0,1))\n",
    "data=Dataset.load_from_df(dfTF,reader)"
   ]
  },
  {
   "cell_type": "markdown",
   "metadata": {},
   "source": [
    "# Use ShuffleSplit for random shuffling of test and train dataset"
   ]
  },
  {
   "cell_type": "code",
   "execution_count": 10,
   "metadata": {},
   "outputs": [],
   "source": [
    "sp=ShuffleSplit(n_splits=20,random_state=10)"
   ]
  },
  {
   "cell_type": "markdown",
   "metadata": {},
   "source": [
    "# SVD Algorithm"
   ]
  },
  {
   "cell_type": "code",
   "execution_count": 11,
   "metadata": {},
   "outputs": [],
   "source": [
    "algo = SVD(n_factors=250,n_epochs=15,lr_all=0.03,reg_qi=0.080,random_state=20,init_std_dev=0.01)"
   ]
  },
  {
   "cell_type": "code",
   "execution_count": 16,
   "metadata": {},
   "outputs": [
    {
     "name": "stdout",
     "output_type": "stream",
     "text": [
      "RMSE: 0.3017\n",
      "RMSE: 0.2967\n",
      "RMSE: 0.3062\n",
      "RMSE: 0.3095\n",
      "RMSE: 0.2912\n",
      "RMSE: 0.3058\n",
      "RMSE: 0.2966\n",
      "RMSE: 0.3034\n",
      "RMSE: 0.2978\n",
      "RMSE: 0.2988\n",
      "RMSE: 0.3190\n",
      "RMSE: 0.3064\n",
      "RMSE: 0.3017\n",
      "RMSE: 0.2985\n",
      "RMSE: 0.3046\n",
      "RMSE: 0.3098\n",
      "RMSE: 0.3080\n",
      "RMSE: 0.3040\n",
      "RMSE: 0.3062\n",
      "RMSE: 0.2932\n",
      "TIme required for SVD:  23.67420506477356\n"
     ]
    }
   ],
   "source": [
    "import time\n",
    "\n",
    "start_time=time.time()\n",
    "for trainset, testset in sp.split(data):\n",
    "\n",
    "    # train and test algorithm.\n",
    "    algo.fit(trainset)\n",
    "    predictions = algo.test(testset)\n",
    "\n",
    "    # Compute and print Root Mean Squared Error\n",
    "    accuracy.rmse(predictions, verbose=True)\n",
    "\n",
    "time_required=time.time()-start_time\n",
    "print(\"TIme required for SVD: \",time_required)"
   ]
  },
  {
   "cell_type": "markdown",
   "metadata": {},
   "source": [
    "# KNN Algorithm"
   ]
  },
  {
   "cell_type": "code",
   "execution_count": 17,
   "metadata": {},
   "outputs": [],
   "source": [
    "sim_options = {\n",
    "    'name': 'pearson', #similarity measure\n",
    "    'user_based': False #item based\n",
    "}"
   ]
  },
  {
   "cell_type": "code",
   "execution_count": 19,
   "metadata": {},
   "outputs": [],
   "source": [
    "knn = KNNBasic(sim_options=sim_options,k=3,min_k=1) #neighbours=3"
   ]
  },
  {
   "cell_type": "code",
   "execution_count": 20,
   "metadata": {},
   "outputs": [
    {
     "name": "stdout",
     "output_type": "stream",
     "text": [
      "Computing the pearson similarity matrix...\n",
      "Done computing similarity matrix.\n",
      "RMSE: 0.3181\n",
      "Computing the pearson similarity matrix...\n",
      "Done computing similarity matrix.\n",
      "RMSE: 0.3154\n",
      "Computing the pearson similarity matrix...\n",
      "Done computing similarity matrix.\n",
      "RMSE: 0.3245\n",
      "Computing the pearson similarity matrix...\n",
      "Done computing similarity matrix.\n",
      "RMSE: 0.3247\n",
      "Computing the pearson similarity matrix...\n",
      "Done computing similarity matrix.\n",
      "RMSE: 0.3128\n",
      "Computing the pearson similarity matrix...\n",
      "Done computing similarity matrix.\n",
      "RMSE: 0.3226\n",
      "Computing the pearson similarity matrix...\n",
      "Done computing similarity matrix.\n",
      "RMSE: 0.3160\n",
      "Computing the pearson similarity matrix...\n",
      "Done computing similarity matrix.\n",
      "RMSE: 0.3201\n",
      "Computing the pearson similarity matrix...\n",
      "Done computing similarity matrix.\n",
      "RMSE: 0.3226\n",
      "Computing the pearson similarity matrix...\n",
      "Done computing similarity matrix.\n",
      "RMSE: 0.3170\n",
      "Computing the pearson similarity matrix...\n",
      "Done computing similarity matrix.\n",
      "RMSE: 0.3353\n",
      "Computing the pearson similarity matrix...\n",
      "Done computing similarity matrix.\n",
      "RMSE: 0.3236\n",
      "Computing the pearson similarity matrix...\n",
      "Done computing similarity matrix.\n",
      "RMSE: 0.3205\n",
      "Computing the pearson similarity matrix...\n",
      "Done computing similarity matrix.\n",
      "RMSE: 0.3195\n",
      "Computing the pearson similarity matrix...\n",
      "Done computing similarity matrix.\n",
      "RMSE: 0.3123\n",
      "Computing the pearson similarity matrix...\n",
      "Done computing similarity matrix.\n",
      "RMSE: 0.3281\n",
      "Computing the pearson similarity matrix...\n",
      "Done computing similarity matrix.\n",
      "RMSE: 0.3263\n",
      "Computing the pearson similarity matrix...\n",
      "Done computing similarity matrix.\n",
      "RMSE: 0.3193\n",
      "Computing the pearson similarity matrix...\n",
      "Done computing similarity matrix.\n",
      "RMSE: 0.3214\n",
      "Computing the pearson similarity matrix...\n",
      "Done computing similarity matrix.\n",
      "RMSE: 0.3123\n",
      "TIme required for KNN:  3.896754264831543\n"
     ]
    }
   ],
   "source": [
    "import time\n",
    "\n",
    "start_time=time.time()\n",
    "for trainset, testset in sp.split(data):\n",
    "\n",
    "    # train and test algorithm.\n",
    "    knn.fit(trainset)\n",
    "    predictionsKNN = knn.test(testset)\n",
    "\n",
    "    # Compute and print Root Mean Squared Error\n",
    "    accuracy.rmse(predictionsKNN, verbose=True)\n",
    "\n",
    "time_required=time.time()-start_time\n",
    "print(\"TIme required for KNN: \",time_required)"
   ]
  },
  {
   "cell_type": "markdown",
   "metadata": {},
   "source": [
    "# Baseline Algorithm"
   ]
  },
  {
   "cell_type": "code",
   "execution_count": 21,
   "metadata": {},
   "outputs": [],
   "source": [
    "trainset, testset = train_test_split(data, test_size=.25)"
   ]
  },
  {
   "cell_type": "code",
   "execution_count": 22,
   "metadata": {},
   "outputs": [],
   "source": [
    "bsl_options = {'method': 'sgd',#another option is als\n",
    "               'n_epochs': 40, # number of iterations\n",
    "               'learning_rate': 0.007, \n",
    "               'reg_i': 20, # item-regularisation parameter\n",
    "               'reg_u': 35 # user-regularisation parameter\n",
    "               }"
   ]
  },
  {
   "cell_type": "code",
   "execution_count": 25,
   "metadata": {},
   "outputs": [
    {
     "name": "stdout",
     "output_type": "stream",
     "text": [
      "Estimating biases using sgd...\n",
      "RMSE: 0.3085\n",
      "TIme required for BaseLine:  0.1361675262451172\n"
     ]
    }
   ],
   "source": [
    "start_time=time.time()\n",
    "\n",
    "bl = BaselineOnly(bsl_options=bsl_options) #neighbours=3\n",
    "bl.fit(trainset)\n",
    "predictions_bl = bl.test(testset)\n",
    "accuracy.rmse(predictions_bl)\n",
    "\n",
    "time_required=time.time()-start_time\n",
    "print(\"TIme required for BaseLine: \",time_required)"
   ]
  }
 ],
 "metadata": {
  "kernelspec": {
   "display_name": "Python 3",
   "language": "python",
   "name": "python3"
  },
  "language_info": {
   "codemirror_mode": {
    "name": "ipython",
    "version": 3
   },
   "file_extension": ".py",
   "mimetype": "text/x-python",
   "name": "python",
   "nbconvert_exporter": "python",
   "pygments_lexer": "ipython3",
   "version": "3.7.3"
  }
 },
 "nbformat": 4,
 "nbformat_minor": 2
}
