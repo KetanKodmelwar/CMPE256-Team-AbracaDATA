{
 "cells": [
  {
   "cell_type": "markdown",
   "metadata": {},
   "source": [
    "Import user items data from json to csv and then to data frame"
   ]
  },
  {
   "cell_type": "code",
   "execution_count": 47,
   "metadata": {},
   "outputs": [],
   "source": [
    "import csv\n",
    "import ast\n",
    "import json\n",
    "import pandas as pd\n",
    "\n",
    "csv_columns = ['user_id','item_id','item_name','playtime_forever']\n",
    "\n",
    "with open('australian_users_items.json', encoding='utf-8') as data_file:\n",
    "    \n",
    "    with open('output_australian_users_items.csv', 'w', encoding='utf-8', newline='') as csv_file:\n",
    "        line = data_file.readline()\n",
    "        writer = csv.DictWriter(csv_file, fieldnames=csv_columns)\n",
    "        writer.writeheader()\n",
    "        while line:\n",
    "            json_data = (ast.literal_eval(line))\n",
    "            line = data_file.readline()\n",
    "            for item in json_data[\"items\"]:\n",
    "                new_dict_data={'user_id':json_data[\"user_id\"],'item_id':item['item_id'],'item_name':item['item_name'],'playtime_forever':item['playtime_forever']}\n",
    "            \n",
    "                writer.writerow(new_dict_data)\n",
    "                line = data_file.readline()"
   ]
  },
  {
   "cell_type": "code",
   "execution_count": 48,
   "metadata": {},
   "outputs": [
    {
     "name": "stdout",
     "output_type": "stream",
     "text": [
      "Automatically created module for IPython interactive environment\n"
     ]
    }
   ],
   "source": [
    "print(__doc__)\n",
    "\n",
    "import numpy as np\n",
    "import scipy as sp\n",
    "import pandas as pd\n",
    "\n",
    "from sklearn.preprocessing import Imputer\n",
    "\n",
    "#read the csv into a dataframe\n",
    "users_items_df = pd.read_csv('output_australian_users_items.csv')\n"
   ]
  },
  {
   "cell_type": "markdown",
   "metadata": {},
   "source": [
    "Import user review data to csv and then to data frame"
   ]
  },
  {
   "cell_type": "code",
   "execution_count": 49,
   "metadata": {},
   "outputs": [],
   "source": [
    "import csv\n",
    "import ast\n",
    "import json\n",
    "import pandas as pd\n",
    "\n",
    "csv_columns = ['user_id','item_id','recommend']\n",
    "\n",
    "with open('australian_user_reviews.json', encoding='utf-8') as data_file:\n",
    "    \n",
    "    with open('output_australian_user_reviews.csv', 'w', encoding='utf-8', newline='') as csv_file:\n",
    "        line = data_file.readline()\n",
    "        writer = csv.DictWriter(csv_file, fieldnames=csv_columns)\n",
    "        writer.writeheader()\n",
    "        while line:\n",
    "            json_data = (ast.literal_eval(line))\n",
    "            line = data_file.readline()\n",
    "            for review in json_data[\"reviews\"]:\n",
    "                new_dict_data={'user_id':json_data[\"user_id\"],'item_id':review['item_id'],'recommend':review['recommend']}\n",
    "            \n",
    "                writer.writerow(new_dict_data)\n",
    "                line = data_file.readline()\n",
    "\n"
   ]
  },
  {
   "cell_type": "code",
   "execution_count": 50,
   "metadata": {},
   "outputs": [
    {
     "name": "stdout",
     "output_type": "stream",
     "text": [
      "Automatically created module for IPython interactive environment\n"
     ]
    }
   ],
   "source": [
    "print(__doc__)\n",
    "\n",
    "import numpy as np\n",
    "import scipy as sp\n",
    "import pandas as pd\n",
    "\n",
    "from sklearn.preprocessing import Imputer\n",
    "\n",
    "#read the csv into a dataframe\n",
    "user_reviews_df = pd.read_csv('output_australian_user_reviews.csv')\n"
   ]
  },
  {
   "cell_type": "markdown",
   "metadata": {},
   "source": [
    "Merge items data and review data"
   ]
  },
  {
   "cell_type": "code",
   "execution_count": 51,
   "metadata": {},
   "outputs": [
    {
     "data": {
      "text/html": [
       "<div>\n",
       "<style scoped>\n",
       "    .dataframe tbody tr th:only-of-type {\n",
       "        vertical-align: middle;\n",
       "    }\n",
       "\n",
       "    .dataframe tbody tr th {\n",
       "        vertical-align: top;\n",
       "    }\n",
       "\n",
       "    .dataframe thead th {\n",
       "        text-align: right;\n",
       "    }\n",
       "</style>\n",
       "<table border=\"1\" class=\"dataframe\">\n",
       "  <thead>\n",
       "    <tr style=\"text-align: right;\">\n",
       "      <th></th>\n",
       "      <th>user_id</th>\n",
       "      <th>item_id</th>\n",
       "      <th>recommend</th>\n",
       "      <th>item_name</th>\n",
       "      <th>playtime_forever</th>\n",
       "    </tr>\n",
       "  </thead>\n",
       "  <tbody>\n",
       "    <tr>\n",
       "      <th>0</th>\n",
       "      <td>76561197970982479</td>\n",
       "      <td>1250</td>\n",
       "      <td>True</td>\n",
       "      <td>Killing Floor</td>\n",
       "      <td>10006.0</td>\n",
       "    </tr>\n",
       "    <tr>\n",
       "      <th>1</th>\n",
       "      <td>76561197970982479</td>\n",
       "      <td>22200</td>\n",
       "      <td>True</td>\n",
       "      <td>Zeno Clash</td>\n",
       "      <td>271.0</td>\n",
       "    </tr>\n",
       "    <tr>\n",
       "      <th>2</th>\n",
       "      <td>76561197970982479</td>\n",
       "      <td>43110</td>\n",
       "      <td>True</td>\n",
       "      <td>Metro 2033</td>\n",
       "      <td>834.0</td>\n",
       "    </tr>\n",
       "    <tr>\n",
       "      <th>3</th>\n",
       "      <td>maplemage</td>\n",
       "      <td>211420</td>\n",
       "      <td>True</td>\n",
       "      <td>NaN</td>\n",
       "      <td>NaN</td>\n",
       "    </tr>\n",
       "    <tr>\n",
       "      <th>4</th>\n",
       "      <td>maplemage</td>\n",
       "      <td>211820</td>\n",
       "      <td>True</td>\n",
       "      <td>NaN</td>\n",
       "      <td>NaN</td>\n",
       "    </tr>\n",
       "  </tbody>\n",
       "</table>\n",
       "</div>"
      ],
      "text/plain": [
       "             user_id  item_id recommend      item_name  playtime_forever\n",
       "0  76561197970982479     1250      True  Killing Floor           10006.0\n",
       "1  76561197970982479    22200      True     Zeno Clash             271.0\n",
       "2  76561197970982479    43110      True     Metro 2033             834.0\n",
       "3          maplemage   211420      True            NaN               NaN\n",
       "4          maplemage   211820      True            NaN               NaN"
      ]
     },
     "execution_count": 51,
     "metadata": {},
     "output_type": "execute_result"
    }
   ],
   "source": [
    "merged_df = pd.merge(user_reviews_df, users_items_df, on=['item_id','user_id'], how='outer')\n",
    "merged_df.head()"
   ]
  },
  {
   "cell_type": "markdown",
   "metadata": {},
   "source": [
    "IMport bundle data from which we will get genre for items"
   ]
  },
  {
   "cell_type": "code",
   "execution_count": 52,
   "metadata": {},
   "outputs": [],
   "source": [
    "import csv\n",
    "import ast\n",
    "import json\n",
    "import pandas as pd\n",
    "\n",
    "import csv\n",
    "import ast\n",
    "import json\n",
    "import pandas as pd\n",
    "\n",
    "csv_columns = ['bundle_id','item_id','genre','discounted_price','bundle_final_price','bundle_price','bundle_name']\n",
    "\n",
    "with open('bundle_data.json', encoding='utf-8') as data_file:\n",
    "    \n",
    "    with open('output_bundle_data.csv', 'w', encoding='utf-8', newline='') as csv_file:\n",
    "        line = data_file.readline()\n",
    "        writer = csv.DictWriter(csv_file, fieldnames=csv_columns)\n",
    "        writer.writeheader()\n",
    "        while line:\n",
    "            json_data = (ast.literal_eval(line))\n",
    "            line = data_file.readline()\n",
    "            for item in json_data[\"items\"]:\n",
    "                new_dict_data={'bundle_id':json_data[\"bundle_id\"],'item_id':item['item_id'],'genre':item['genre'],'discounted_price':item['discounted_price'],'bundle_final_price':json_data[\"bundle_final_price\"],'bundle_price':json_data[\"bundle_price\"],'bundle_name':json_data[\"bundle_name\"]}\n",
    "            \n",
    "                writer.writerow(new_dict_data)\n",
    "                line = data_file.readline()\n",
    "\n"
   ]
  },
  {
   "cell_type": "code",
   "execution_count": 53,
   "metadata": {},
   "outputs": [
    {
     "name": "stdout",
     "output_type": "stream",
     "text": [
      "Automatically created module for IPython interactive environment\n"
     ]
    }
   ],
   "source": [
    "print(__doc__)\n",
    "\n",
    "import numpy as np\n",
    "import scipy as sp\n",
    "import pandas as pd\n",
    "\n",
    "from sklearn.preprocessing import Imputer\n",
    "\n",
    "#read the csv into a dataframe\n",
    "bundle_df = pd.read_csv('output_bundle_data.csv')\n"
   ]
  },
  {
   "cell_type": "code",
   "execution_count": 54,
   "metadata": {},
   "outputs": [],
   "source": [
    "bundle_df['item_id'] = bundle_df['item_id'].astype('str') "
   ]
  },
  {
   "cell_type": "code",
   "execution_count": 55,
   "metadata": {},
   "outputs": [],
   "source": [
    "merged_df['item_id'] = merged_df['item_id'].astype('str') "
   ]
  },
  {
   "cell_type": "markdown",
   "metadata": {},
   "source": [
    "Merge all data"
   ]
  },
  {
   "cell_type": "code",
   "execution_count": 56,
   "metadata": {},
   "outputs": [
    {
     "data": {
      "text/html": [
       "<div>\n",
       "<style scoped>\n",
       "    .dataframe tbody tr th:only-of-type {\n",
       "        vertical-align: middle;\n",
       "    }\n",
       "\n",
       "    .dataframe tbody tr th {\n",
       "        vertical-align: top;\n",
       "    }\n",
       "\n",
       "    .dataframe thead th {\n",
       "        text-align: right;\n",
       "    }\n",
       "</style>\n",
       "<table border=\"1\" class=\"dataframe\">\n",
       "  <thead>\n",
       "    <tr style=\"text-align: right;\">\n",
       "      <th></th>\n",
       "      <th>user_id</th>\n",
       "      <th>item_id</th>\n",
       "      <th>recommend</th>\n",
       "      <th>item_name</th>\n",
       "      <th>playtime_forever</th>\n",
       "      <th>bundle_id</th>\n",
       "      <th>genre</th>\n",
       "      <th>discounted_price</th>\n",
       "      <th>bundle_final_price</th>\n",
       "      <th>bundle_price</th>\n",
       "      <th>bundle_name</th>\n",
       "    </tr>\n",
       "  </thead>\n",
       "  <tbody>\n",
       "    <tr>\n",
       "      <th>0</th>\n",
       "      <td>76561197970982479</td>\n",
       "      <td>1250</td>\n",
       "      <td>True</td>\n",
       "      <td>Killing Floor</td>\n",
       "      <td>10006.0</td>\n",
       "      <td>612.0</td>\n",
       "      <td>Action</td>\n",
       "      <td>$19.99</td>\n",
       "      <td>$67.20</td>\n",
       "      <td>$167.78</td>\n",
       "      <td>Killing Floor 1 Complete Your Set!</td>\n",
       "    </tr>\n",
       "    <tr>\n",
       "      <th>1</th>\n",
       "      <td>death-hunter</td>\n",
       "      <td>1250</td>\n",
       "      <td>True</td>\n",
       "      <td>NaN</td>\n",
       "      <td>NaN</td>\n",
       "      <td>612.0</td>\n",
       "      <td>Action</td>\n",
       "      <td>$19.99</td>\n",
       "      <td>$67.20</td>\n",
       "      <td>$167.78</td>\n",
       "      <td>Killing Floor 1 Complete Your Set!</td>\n",
       "    </tr>\n",
       "    <tr>\n",
       "      <th>2</th>\n",
       "      <td>diego9031</td>\n",
       "      <td>1250</td>\n",
       "      <td>True</td>\n",
       "      <td>NaN</td>\n",
       "      <td>NaN</td>\n",
       "      <td>612.0</td>\n",
       "      <td>Action</td>\n",
       "      <td>$19.99</td>\n",
       "      <td>$67.20</td>\n",
       "      <td>$167.78</td>\n",
       "      <td>Killing Floor 1 Complete Your Set!</td>\n",
       "    </tr>\n",
       "    <tr>\n",
       "      <th>3</th>\n",
       "      <td>GamerFag</td>\n",
       "      <td>1250</td>\n",
       "      <td>True</td>\n",
       "      <td>NaN</td>\n",
       "      <td>NaN</td>\n",
       "      <td>612.0</td>\n",
       "      <td>Action</td>\n",
       "      <td>$19.99</td>\n",
       "      <td>$67.20</td>\n",
       "      <td>$167.78</td>\n",
       "      <td>Killing Floor 1 Complete Your Set!</td>\n",
       "    </tr>\n",
       "    <tr>\n",
       "      <th>4</th>\n",
       "      <td>brendoboy</td>\n",
       "      <td>1250</td>\n",
       "      <td>True</td>\n",
       "      <td>NaN</td>\n",
       "      <td>NaN</td>\n",
       "      <td>612.0</td>\n",
       "      <td>Action</td>\n",
       "      <td>$19.99</td>\n",
       "      <td>$67.20</td>\n",
       "      <td>$167.78</td>\n",
       "      <td>Killing Floor 1 Complete Your Set!</td>\n",
       "    </tr>\n",
       "  </tbody>\n",
       "</table>\n",
       "</div>"
      ],
      "text/plain": [
       "             user_id item_id recommend      item_name  playtime_forever  \\\n",
       "0  76561197970982479    1250      True  Killing Floor           10006.0   \n",
       "1       death-hunter    1250      True            NaN               NaN   \n",
       "2          diego9031    1250      True            NaN               NaN   \n",
       "3           GamerFag    1250      True            NaN               NaN   \n",
       "4          brendoboy    1250      True            NaN               NaN   \n",
       "\n",
       "   bundle_id   genre discounted_price bundle_final_price bundle_price  \\\n",
       "0      612.0  Action           $19.99             $67.20      $167.78   \n",
       "1      612.0  Action           $19.99             $67.20      $167.78   \n",
       "2      612.0  Action           $19.99             $67.20      $167.78   \n",
       "3      612.0  Action           $19.99             $67.20      $167.78   \n",
       "4      612.0  Action           $19.99             $67.20      $167.78   \n",
       "\n",
       "                          bundle_name  \n",
       "0  Killing Floor 1 Complete Your Set!  \n",
       "1  Killing Floor 1 Complete Your Set!  \n",
       "2  Killing Floor 1 Complete Your Set!  \n",
       "3  Killing Floor 1 Complete Your Set!  \n",
       "4  Killing Floor 1 Complete Your Set!  "
      ]
     },
     "execution_count": 56,
     "metadata": {},
     "output_type": "execute_result"
    }
   ],
   "source": [
    "merged_df_final = pd.merge(merged_df, bundle_df, on=['item_id'], how='outer')\n",
    "merged_df_final.head()"
   ]
  },
  {
   "cell_type": "markdown",
   "metadata": {},
   "source": [
    "Clean data"
   ]
  },
  {
   "cell_type": "code",
   "execution_count": 57,
   "metadata": {},
   "outputs": [],
   "source": [
    "cleaned_data=merged_df_final[(merged_df_final.item_id != '200960,200980,200990,201000,201010') & (merged_df_final.item_id!='42170,204731,204732') & (merged_df_final.item_id!='10,80')]"
   ]
  },
  {
   "cell_type": "code",
   "execution_count": 58,
   "metadata": {},
   "outputs": [],
   "source": [
    "new_data=cleaned_data[['item_id','genre']]"
   ]
  },
  {
   "cell_type": "code",
   "execution_count": 59,
   "metadata": {},
   "outputs": [
    {
     "data": {
      "text/html": [
       "<div>\n",
       "<style scoped>\n",
       "    .dataframe tbody tr th:only-of-type {\n",
       "        vertical-align: middle;\n",
       "    }\n",
       "\n",
       "    .dataframe tbody tr th {\n",
       "        vertical-align: top;\n",
       "    }\n",
       "\n",
       "    .dataframe thead th {\n",
       "        text-align: right;\n",
       "    }\n",
       "</style>\n",
       "<table border=\"1\" class=\"dataframe\">\n",
       "  <thead>\n",
       "    <tr style=\"text-align: right;\">\n",
       "      <th></th>\n",
       "      <th>item_id</th>\n",
       "      <th>genre</th>\n",
       "    </tr>\n",
       "  </thead>\n",
       "  <tbody>\n",
       "    <tr>\n",
       "      <th>count</th>\n",
       "      <td>104032</td>\n",
       "      <td>6442</td>\n",
       "    </tr>\n",
       "    <tr>\n",
       "      <th>unique</th>\n",
       "      <td>6326</td>\n",
       "      <td>76</td>\n",
       "    </tr>\n",
       "    <tr>\n",
       "      <th>top</th>\n",
       "      <td>730</td>\n",
       "      <td>Action</td>\n",
       "    </tr>\n",
       "    <tr>\n",
       "      <th>freq</th>\n",
       "      <td>2059</td>\n",
       "      <td>3018</td>\n",
       "    </tr>\n",
       "  </tbody>\n",
       "</table>\n",
       "</div>"
      ],
      "text/plain": [
       "       item_id   genre\n",
       "count   104032    6442\n",
       "unique    6326      76\n",
       "top        730  Action\n",
       "freq      2059    3018"
      ]
     },
     "execution_count": 59,
     "metadata": {},
     "output_type": "execute_result"
    }
   ],
   "source": [
    "new_data.describe()"
   ]
  },
  {
   "cell_type": "code",
   "execution_count": 60,
   "metadata": {},
   "outputs": [
    {
     "data": {
      "text/plain": [
       "array(['1250', '22200', '43110', ..., '385230', '387880', '454130'],\n",
       "      dtype=object)"
      ]
     },
     "execution_count": 60,
     "metadata": {},
     "output_type": "execute_result"
    }
   ],
   "source": [
    "new_data['item_id'].unique()"
   ]
  },
  {
   "cell_type": "code",
   "execution_count": 61,
   "metadata": {},
   "outputs": [],
   "source": [
    "new_data=new_data.drop_duplicates()"
   ]
  },
  {
   "cell_type": "code",
   "execution_count": 62,
   "metadata": {},
   "outputs": [
    {
     "data": {
      "text/html": [
       "<div>\n",
       "<style scoped>\n",
       "    .dataframe tbody tr th:only-of-type {\n",
       "        vertical-align: middle;\n",
       "    }\n",
       "\n",
       "    .dataframe tbody tr th {\n",
       "        vertical-align: top;\n",
       "    }\n",
       "\n",
       "    .dataframe thead th {\n",
       "        text-align: right;\n",
       "    }\n",
       "</style>\n",
       "<table border=\"1\" class=\"dataframe\">\n",
       "  <thead>\n",
       "    <tr style=\"text-align: right;\">\n",
       "      <th></th>\n",
       "      <th>item_id</th>\n",
       "      <th>genre</th>\n",
       "    </tr>\n",
       "  </thead>\n",
       "  <tbody>\n",
       "    <tr>\n",
       "      <th>0</th>\n",
       "      <td>1250</td>\n",
       "      <td>Action</td>\n",
       "    </tr>\n",
       "    <tr>\n",
       "      <th>369</th>\n",
       "      <td>22200</td>\n",
       "      <td>NaN</td>\n",
       "    </tr>\n",
       "    <tr>\n",
       "      <th>390</th>\n",
       "      <td>43110</td>\n",
       "      <td>NaN</td>\n",
       "    </tr>\n",
       "    <tr>\n",
       "      <th>573</th>\n",
       "      <td>211420</td>\n",
       "      <td>NaN</td>\n",
       "    </tr>\n",
       "    <tr>\n",
       "      <th>719</th>\n",
       "      <td>211820</td>\n",
       "      <td>NaN</td>\n",
       "    </tr>\n",
       "  </tbody>\n",
       "</table>\n",
       "</div>"
      ],
      "text/plain": [
       "    item_id   genre\n",
       "0      1250  Action\n",
       "369   22200     NaN\n",
       "390   43110     NaN\n",
       "573  211420     NaN\n",
       "719  211820     NaN"
      ]
     },
     "execution_count": 62,
     "metadata": {},
     "output_type": "execute_result"
    }
   ],
   "source": [
    "new_data.head()"
   ]
  },
  {
   "cell_type": "code",
   "execution_count": 63,
   "metadata": {},
   "outputs": [],
   "source": [
    "new_data=new_data[(new_data[\"genre\"].notnull())]"
   ]
  },
  {
   "cell_type": "markdown",
   "metadata": {},
   "source": [
    "Item Id with genre"
   ]
  },
  {
   "cell_type": "code",
   "execution_count": 64,
   "metadata": {},
   "outputs": [
    {
     "data": {
      "text/html": [
       "<div>\n",
       "<style scoped>\n",
       "    .dataframe tbody tr th:only-of-type {\n",
       "        vertical-align: middle;\n",
       "    }\n",
       "\n",
       "    .dataframe tbody tr th {\n",
       "        vertical-align: top;\n",
       "    }\n",
       "\n",
       "    .dataframe thead th {\n",
       "        text-align: right;\n",
       "    }\n",
       "</style>\n",
       "<table border=\"1\" class=\"dataframe\">\n",
       "  <thead>\n",
       "    <tr style=\"text-align: right;\">\n",
       "      <th></th>\n",
       "      <th>item_id</th>\n",
       "      <th>genre</th>\n",
       "    </tr>\n",
       "  </thead>\n",
       "  <tbody>\n",
       "    <tr>\n",
       "      <th>0</th>\n",
       "      <td>1250</td>\n",
       "      <td>Action</td>\n",
       "    </tr>\n",
       "    <tr>\n",
       "      <th>967</th>\n",
       "      <td>730</td>\n",
       "      <td>Action</td>\n",
       "    </tr>\n",
       "    <tr>\n",
       "      <th>18590</th>\n",
       "      <td>8930</td>\n",
       "      <td>Strategy</td>\n",
       "    </tr>\n",
       "    <tr>\n",
       "      <th>22747</th>\n",
       "      <td>49520</td>\n",
       "      <td>Action, RPG</td>\n",
       "    </tr>\n",
       "    <tr>\n",
       "      <th>25702</th>\n",
       "      <td>261640</td>\n",
       "      <td>Action, RPG</td>\n",
       "    </tr>\n",
       "    <tr>\n",
       "      <th>26163</th>\n",
       "      <td>265930</td>\n",
       "      <td>Casual, Indie, Simulation</td>\n",
       "    </tr>\n",
       "    <tr>\n",
       "      <th>29740</th>\n",
       "      <td>313740</td>\n",
       "      <td>Indie</td>\n",
       "    </tr>\n",
       "    <tr>\n",
       "      <th>29796</th>\n",
       "      <td>330830</td>\n",
       "      <td>Adventure</td>\n",
       "    </tr>\n",
       "    <tr>\n",
       "      <th>29834</th>\n",
       "      <td>240</td>\n",
       "      <td>Action</td>\n",
       "    </tr>\n",
       "    <tr>\n",
       "      <th>31466</th>\n",
       "      <td>289130</td>\n",
       "      <td>Indie, RPG, Strategy</td>\n",
       "    </tr>\n",
       "    <tr>\n",
       "      <th>34057</th>\n",
       "      <td>237930</td>\n",
       "      <td>Action, Indie, RPG</td>\n",
       "    </tr>\n",
       "    <tr>\n",
       "      <th>36886</th>\n",
       "      <td>107100</td>\n",
       "      <td>Action, Indie, RPG</td>\n",
       "    </tr>\n",
       "    <tr>\n",
       "      <th>37179</th>\n",
       "      <td>225540</td>\n",
       "      <td>Action, Adventure</td>\n",
       "    </tr>\n",
       "    <tr>\n",
       "      <th>38102</th>\n",
       "      <td>207140</td>\n",
       "      <td>Action, Casual, Indie, Racing, Sports</td>\n",
       "    </tr>\n",
       "    <tr>\n",
       "      <th>42014</th>\n",
       "      <td>269210</td>\n",
       "      <td>Action, Adventure, Indie, Massively Multiplaye...</td>\n",
       "    </tr>\n",
       "    <tr>\n",
       "      <th>42678</th>\n",
       "      <td>220700</td>\n",
       "      <td>Design &amp; Illustration, Web Publishing</td>\n",
       "    </tr>\n",
       "    <tr>\n",
       "      <th>46264</th>\n",
       "      <td>12750</td>\n",
       "      <td>Racing</td>\n",
       "    </tr>\n",
       "    <tr>\n",
       "      <th>48054</th>\n",
       "      <td>427250</td>\n",
       "      <td>Indie, Simulation, Strategy</td>\n",
       "    </tr>\n",
       "    <tr>\n",
       "      <th>48068</th>\n",
       "      <td>497850</td>\n",
       "      <td>Indie, Simulation, Strategy</td>\n",
       "    </tr>\n",
       "    <tr>\n",
       "      <th>48923</th>\n",
       "      <td>383150</td>\n",
       "      <td>Action</td>\n",
       "    </tr>\n",
       "    <tr>\n",
       "      <th>49727</th>\n",
       "      <td>282800</td>\n",
       "      <td>Indie, Strategy</td>\n",
       "    </tr>\n",
       "    <tr>\n",
       "      <th>50645</th>\n",
       "      <td>390730</td>\n",
       "      <td>Action, Indie</td>\n",
       "    </tr>\n",
       "    <tr>\n",
       "      <th>51930</th>\n",
       "      <td>402180</td>\n",
       "      <td>Casual, Indie</td>\n",
       "    </tr>\n",
       "    <tr>\n",
       "      <th>56259</th>\n",
       "      <td>235540</td>\n",
       "      <td>Action, Indie</td>\n",
       "    </tr>\n",
       "    <tr>\n",
       "      <th>56783</th>\n",
       "      <td>203830</td>\n",
       "      <td>Adventure, Indie</td>\n",
       "    </tr>\n",
       "    <tr>\n",
       "      <th>57531</th>\n",
       "      <td>237990</td>\n",
       "      <td>Indie, RPG, Strategy</td>\n",
       "    </tr>\n",
       "    <tr>\n",
       "      <th>60335</th>\n",
       "      <td>339350</td>\n",
       "      <td>Indie, RPG</td>\n",
       "    </tr>\n",
       "    <tr>\n",
       "      <th>60648</th>\n",
       "      <td>337000</td>\n",
       "      <td>Action, RPG</td>\n",
       "    </tr>\n",
       "    <tr>\n",
       "      <th>61037</th>\n",
       "      <td>263400</td>\n",
       "      <td>Adventure, Indie, Strategy</td>\n",
       "    </tr>\n",
       "    <tr>\n",
       "      <th>63817</th>\n",
       "      <td>8980</td>\n",
       "      <td>Action, RPG</td>\n",
       "    </tr>\n",
       "    <tr>\n",
       "      <th>...</th>\n",
       "      <td>...</td>\n",
       "      <td>...</td>\n",
       "    </tr>\n",
       "    <tr>\n",
       "      <th>88038</th>\n",
       "      <td>24800</td>\n",
       "      <td>Strategy</td>\n",
       "    </tr>\n",
       "    <tr>\n",
       "      <th>88940</th>\n",
       "      <td>42120</td>\n",
       "      <td>Action</td>\n",
       "    </tr>\n",
       "    <tr>\n",
       "      <th>91205</th>\n",
       "      <td>314450</td>\n",
       "      <td>Action, Adventure, Indie, RPG, Strategy</td>\n",
       "    </tr>\n",
       "    <tr>\n",
       "      <th>91296</th>\n",
       "      <td>333740</td>\n",
       "      <td>Indie, Early Access</td>\n",
       "    </tr>\n",
       "    <tr>\n",
       "      <th>91306</th>\n",
       "      <td>340070</td>\n",
       "      <td>Action, Adventure, Casual, Indie, Strategy</td>\n",
       "    </tr>\n",
       "    <tr>\n",
       "      <th>91357</th>\n",
       "      <td>349500</td>\n",
       "      <td>Indie, RPG, Simulation</td>\n",
       "    </tr>\n",
       "    <tr>\n",
       "      <th>91411</th>\n",
       "      <td>360380</td>\n",
       "      <td>Adventure, Casual, Indie, Simulation, Strategy</td>\n",
       "    </tr>\n",
       "    <tr>\n",
       "      <th>91508</th>\n",
       "      <td>364270</td>\n",
       "      <td>Indie, RPG, Strategy</td>\n",
       "    </tr>\n",
       "    <tr>\n",
       "      <th>91673</th>\n",
       "      <td>416080</td>\n",
       "      <td>Action, Adventure, Casual, Indie, Simulation, ...</td>\n",
       "    </tr>\n",
       "    <tr>\n",
       "      <th>91708</th>\n",
       "      <td>429470</td>\n",
       "      <td>Adventure, Indie</td>\n",
       "    </tr>\n",
       "    <tr>\n",
       "      <th>91724</th>\n",
       "      <td>434420</td>\n",
       "      <td>Adventure, Indie, RPG</td>\n",
       "    </tr>\n",
       "    <tr>\n",
       "      <th>91924</th>\n",
       "      <td>462960</td>\n",
       "      <td>Adventure, Casual, Indie</td>\n",
       "    </tr>\n",
       "    <tr>\n",
       "      <th>91929</th>\n",
       "      <td>485220</td>\n",
       "      <td>Action, Casual, Indie, Strategy</td>\n",
       "    </tr>\n",
       "    <tr>\n",
       "      <th>92658</th>\n",
       "      <td>405970</td>\n",
       "      <td>Action, Adventure, Indie</td>\n",
       "    </tr>\n",
       "    <tr>\n",
       "      <th>92669</th>\n",
       "      <td>448640</td>\n",
       "      <td>Indie, RPG, Early Access</td>\n",
       "    </tr>\n",
       "    <tr>\n",
       "      <th>93658</th>\n",
       "      <td>296970</td>\n",
       "      <td>Adventure, Indie, RPG, Strategy</td>\n",
       "    </tr>\n",
       "    <tr>\n",
       "      <th>93951</th>\n",
       "      <td>78000</td>\n",
       "      <td>Strategy, Casual</td>\n",
       "    </tr>\n",
       "    <tr>\n",
       "      <th>94280</th>\n",
       "      <td>337850</td>\n",
       "      <td>Adventure, Indie, RPG, Strategy</td>\n",
       "    </tr>\n",
       "    <tr>\n",
       "      <th>94285</th>\n",
       "      <td>339190</td>\n",
       "      <td>Adventure, Indie</td>\n",
       "    </tr>\n",
       "    <tr>\n",
       "      <th>94499</th>\n",
       "      <td>380080</td>\n",
       "      <td>Audio Production</td>\n",
       "    </tr>\n",
       "    <tr>\n",
       "      <th>94677</th>\n",
       "      <td>258050</td>\n",
       "      <td>Action, Indie, Strategy</td>\n",
       "    </tr>\n",
       "    <tr>\n",
       "      <th>95040</th>\n",
       "      <td>316600</td>\n",
       "      <td>Action, Indie</td>\n",
       "    </tr>\n",
       "    <tr>\n",
       "      <th>95590</th>\n",
       "      <td>112100</td>\n",
       "      <td>RPG, Indie</td>\n",
       "    </tr>\n",
       "    <tr>\n",
       "      <th>95747</th>\n",
       "      <td>208400</td>\n",
       "      <td>Strategy, RPG, Indie</td>\n",
       "    </tr>\n",
       "    <tr>\n",
       "      <th>95963</th>\n",
       "      <td>206020</td>\n",
       "      <td>RPG, Indie</td>\n",
       "    </tr>\n",
       "    <tr>\n",
       "      <th>95968</th>\n",
       "      <td>206040</td>\n",
       "      <td>RPG, Indie</td>\n",
       "    </tr>\n",
       "    <tr>\n",
       "      <th>95973</th>\n",
       "      <td>206060</td>\n",
       "      <td>RPG, Indie</td>\n",
       "    </tr>\n",
       "    <tr>\n",
       "      <th>96094</th>\n",
       "      <td>218020</td>\n",
       "      <td>Strategy, RPG, Indie</td>\n",
       "    </tr>\n",
       "    <tr>\n",
       "      <th>96104</th>\n",
       "      <td>105000</td>\n",
       "      <td>Adventure, Indie</td>\n",
       "    </tr>\n",
       "    <tr>\n",
       "      <th>96869</th>\n",
       "      <td>402330</td>\n",
       "      <td>Action, Indie, Early Access</td>\n",
       "    </tr>\n",
       "  </tbody>\n",
       "</table>\n",
       "<p>100 rows × 2 columns</p>\n",
       "</div>"
      ],
      "text/plain": [
       "      item_id                                              genre\n",
       "0        1250                                             Action\n",
       "967       730                                             Action\n",
       "18590    8930                                           Strategy\n",
       "22747   49520                                        Action, RPG\n",
       "25702  261640                                        Action, RPG\n",
       "26163  265930                          Casual, Indie, Simulation\n",
       "29740  313740                                              Indie\n",
       "29796  330830                                          Adventure\n",
       "29834     240                                             Action\n",
       "31466  289130                               Indie, RPG, Strategy\n",
       "34057  237930                                 Action, Indie, RPG\n",
       "36886  107100                                 Action, Indie, RPG\n",
       "37179  225540                                  Action, Adventure\n",
       "38102  207140              Action, Casual, Indie, Racing, Sports\n",
       "42014  269210  Action, Adventure, Indie, Massively Multiplaye...\n",
       "42678  220700              Design & Illustration, Web Publishing\n",
       "46264   12750                                             Racing\n",
       "48054  427250                        Indie, Simulation, Strategy\n",
       "48068  497850                        Indie, Simulation, Strategy\n",
       "48923  383150                                             Action\n",
       "49727  282800                                    Indie, Strategy\n",
       "50645  390730                                      Action, Indie\n",
       "51930  402180                                      Casual, Indie\n",
       "56259  235540                                      Action, Indie\n",
       "56783  203830                                   Adventure, Indie\n",
       "57531  237990                               Indie, RPG, Strategy\n",
       "60335  339350                                         Indie, RPG\n",
       "60648  337000                                        Action, RPG\n",
       "61037  263400                         Adventure, Indie, Strategy\n",
       "63817    8980                                        Action, RPG\n",
       "...       ...                                                ...\n",
       "88038   24800                                           Strategy\n",
       "88940   42120                                             Action\n",
       "91205  314450            Action, Adventure, Indie, RPG, Strategy\n",
       "91296  333740                                Indie, Early Access\n",
       "91306  340070         Action, Adventure, Casual, Indie, Strategy\n",
       "91357  349500                             Indie, RPG, Simulation\n",
       "91411  360380     Adventure, Casual, Indie, Simulation, Strategy\n",
       "91508  364270                               Indie, RPG, Strategy\n",
       "91673  416080  Action, Adventure, Casual, Indie, Simulation, ...\n",
       "91708  429470                                   Adventure, Indie\n",
       "91724  434420                              Adventure, Indie, RPG\n",
       "91924  462960                           Adventure, Casual, Indie\n",
       "91929  485220                    Action, Casual, Indie, Strategy\n",
       "92658  405970                           Action, Adventure, Indie\n",
       "92669  448640                           Indie, RPG, Early Access\n",
       "93658  296970                    Adventure, Indie, RPG, Strategy\n",
       "93951   78000                                   Strategy, Casual\n",
       "94280  337850                    Adventure, Indie, RPG, Strategy\n",
       "94285  339190                                   Adventure, Indie\n",
       "94499  380080                                   Audio Production\n",
       "94677  258050                            Action, Indie, Strategy\n",
       "95040  316600                                      Action, Indie\n",
       "95590  112100                                         RPG, Indie\n",
       "95747  208400                               Strategy, RPG, Indie\n",
       "95963  206020                                         RPG, Indie\n",
       "95968  206040                                         RPG, Indie\n",
       "95973  206060                                         RPG, Indie\n",
       "96094  218020                               Strategy, RPG, Indie\n",
       "96104  105000                                   Adventure, Indie\n",
       "96869  402330                        Action, Indie, Early Access\n",
       "\n",
       "[100 rows x 2 columns]"
      ]
     },
     "execution_count": 64,
     "metadata": {},
     "output_type": "execute_result"
    }
   ],
   "source": [
    "new_data.head(100)"
   ]
  },
  {
   "cell_type": "code",
   "execution_count": 65,
   "metadata": {},
   "outputs": [
    {
     "data": {
      "image/png": "[encoded data removed]",
      "text/plain": [
       "<Figure size 1440x216 with 1 Axes>"
      ]
     },
     "metadata": {
      "needs_background": "light"
     },
     "output_type": "display_data"
    }
   ],
   "source": [
    "import matplotlib.pyplot as plt\n",
    "import pandas as pd\n",
    "\n",
    "plt.figure(figsize=(20, 3))\n",
    "new_data.groupby('genre')['item_id'].nunique().plot(kind='bar')\n",
    "plt.show()"
   ]
  },
  {
   "cell_type": "markdown",
   "metadata": {},
   "source": [
    "Splitting genre with ,"
   ]
  },
  {
   "cell_type": "code",
   "execution_count": 66,
   "metadata": {},
   "outputs": [],
   "source": [
    "new_data['genre'] = new_data['genre'].map(lambda x: x.lower().split(','))"
   ]
  },
  {
   "cell_type": "markdown",
   "metadata": {},
   "source": [
    "Indexing by item id"
   ]
  },
  {
   "cell_type": "code",
   "execution_count": 67,
   "metadata": {},
   "outputs": [
    {
     "data": {
      "text/html": [
       "<div>\n",
       "<style scoped>\n",
       "    .dataframe tbody tr th:only-of-type {\n",
       "        vertical-align: middle;\n",
       "    }\n",
       "\n",
       "    .dataframe tbody tr th {\n",
       "        vertical-align: top;\n",
       "    }\n",
       "\n",
       "    .dataframe thead th {\n",
       "        text-align: right;\n",
       "    }\n",
       "</style>\n",
       "<table border=\"1\" class=\"dataframe\">\n",
       "  <thead>\n",
       "    <tr style=\"text-align: right;\">\n",
       "      <th></th>\n",
       "      <th>genre</th>\n",
       "    </tr>\n",
       "    <tr>\n",
       "      <th>item_id</th>\n",
       "      <th></th>\n",
       "    </tr>\n",
       "  </thead>\n",
       "  <tbody>\n",
       "    <tr>\n",
       "      <th>1250</th>\n",
       "      <td>[action]</td>\n",
       "    </tr>\n",
       "    <tr>\n",
       "      <th>730</th>\n",
       "      <td>[action]</td>\n",
       "    </tr>\n",
       "    <tr>\n",
       "      <th>8930</th>\n",
       "      <td>[strategy]</td>\n",
       "    </tr>\n",
       "    <tr>\n",
       "      <th>49520</th>\n",
       "      <td>[action,  rpg]</td>\n",
       "    </tr>\n",
       "    <tr>\n",
       "      <th>261640</th>\n",
       "      <td>[action,  rpg]</td>\n",
       "    </tr>\n",
       "  </tbody>\n",
       "</table>\n",
       "</div>"
      ],
      "text/plain": [
       "                  genre\n",
       "item_id                \n",
       "1250           [action]\n",
       "730            [action]\n",
       "8930         [strategy]\n",
       "49520    [action,  rpg]\n",
       "261640   [action,  rpg]"
      ]
     },
     "execution_count": 67,
     "metadata": {},
     "output_type": "execute_result"
    }
   ],
   "source": [
    "new_data.set_index('item_id', inplace = True)\n",
    "new_data.head()"
   ]
  },
  {
   "cell_type": "code",
   "execution_count": 68,
   "metadata": {},
   "outputs": [],
   "source": [
    "new_data['bag_of_words'] = ''\n",
    "columns = new_data.columns\n",
    "for index, row in new_data.iterrows():\n",
    "    words = ''\n",
    "    for col in columns:\n",
    "        words = words + ' '.join(row[col])+ ' '\n",
    "\n",
    "    row['bag_of_words'] = words\n",
    "    \n",
    "new_data.drop(columns = [col for col in new_data.columns if col!= 'bag_of_words'], inplace = True)"
   ]
  },
  {
   "cell_type": "markdown",
   "metadata": {},
   "source": [
    "Using sklearn count vectorizer performing content based cosine similarity"
   ]
  },
  {
   "cell_type": "code",
   "execution_count": 69,
   "metadata": {},
   "outputs": [
    {
     "data": {
      "text/plain": [
       "0      1250\n",
       "1       730\n",
       "2      8930\n",
       "3     49520\n",
       "4    261640\n",
       "Name: item_id, dtype: object"
      ]
     },
     "execution_count": 69,
     "metadata": {},
     "output_type": "execute_result"
    }
   ],
   "source": [
    "from sklearn.metrics.pairwise import cosine_similarity\n",
    "from sklearn.feature_extraction.text import CountVectorizer\n",
    "\n",
    "# instantiating and generating the count matrix\n",
    "count = CountVectorizer()\n",
    "count_matrix = count.fit_transform(new_data['bag_of_words'])\n",
    "\n",
    "# creating a Series for the game id so they are associated to an ordered numerical\n",
    "# list I will use later to match the indexes\n",
    "indices = pd.Series(new_data.index)\n",
    "indices[:5]"
   ]
  },
  {
   "cell_type": "code",
   "execution_count": 70,
   "metadata": {},
   "outputs": [
    {
     "data": {
      "text/plain": [
       "array([[1.        , 1.        , 0.        , ..., 0.57735027, 0.57735027,\n",
       "        0.70710678],\n",
       "       [1.        , 1.        , 0.        , ..., 0.57735027, 0.57735027,\n",
       "        0.70710678],\n",
       "       [0.        , 0.        , 1.        , ..., 0.        , 0.        ,\n",
       "        0.        ],\n",
       "       ...,\n",
       "       [0.57735027, 0.57735027, 0.        , ..., 1.        , 1.        ,\n",
       "        0.81649658],\n",
       "       [0.57735027, 0.57735027, 0.        , ..., 1.        , 1.        ,\n",
       "        0.81649658],\n",
       "       [0.70710678, 0.70710678, 0.        , ..., 0.81649658, 0.81649658,\n",
       "        1.        ]])"
      ]
     },
     "execution_count": 70,
     "metadata": {},
     "output_type": "execute_result"
    }
   ],
   "source": [
    "\n",
    "# generating the cosine similarity matrix\n",
    "cosine_sim = cosine_similarity(count_matrix, count_matrix)\n",
    "cosine_sim"
   ]
  },
  {
   "cell_type": "markdown",
   "metadata": {},
   "source": [
    "Function with input item id and output top 10 similar games"
   ]
  },
  {
   "cell_type": "code",
   "execution_count": 71,
   "metadata": {},
   "outputs": [],
   "source": [
    "# function that takes in game id as input and returns the top 10 recommended games\n",
    "def recommendations(item_id, cosine_sim = cosine_sim):\n",
    "    \n",
    "    recommended_games = []\n",
    "    \n",
    "    # gettin the index of the games that matches the id\n",
    "    idx = indices[indices == item_id].index[0]\n",
    "\n",
    "    # creating a Series with the similarity scores in descending order\n",
    "    score_series = pd.Series(cosine_sim[idx]).sort_values(ascending = False)\n",
    "\n",
    "    # getting the indexes of the 10 most similar games\n",
    "    top_10_indexes = list(score_series.iloc[1:11].index)\n",
    "    \n",
    "    # populating the list with the titles of the best 10 matching games\n",
    "    for i in top_10_indexes:\n",
    "        recommended_games.append(list(new_data.index)[i])\n",
    "        \n",
    "    return recommended_games"
   ]
  },
  {
   "cell_type": "markdown",
   "metadata": {},
   "source": [
    "Game with id 1250 with top 10 similar games"
   ]
  },
  {
   "cell_type": "code",
   "execution_count": 72,
   "metadata": {},
   "outputs": [
    {
     "data": {
      "text/plain": [
       "['210932',\n",
       " '359495',\n",
       " '309991',\n",
       " '359497',\n",
       " '373540',\n",
       " '411400',\n",
       " '411401',\n",
       " '1256',\n",
       " '1257',\n",
       " '35417']"
      ]
     },
     "execution_count": 72,
     "metadata": {},
     "output_type": "execute_result"
    }
   ],
   "source": [
    "recommendations('1250')"
   ]
  },
  {
   "cell_type": "code",
   "execution_count": null,
   "metadata": {},
   "outputs": [],
   "source": []
  }
 ],
 "metadata": {
  "kernelspec": {
   "display_name": "Python 3",
   "language": "python",
   "name": "python3"
  },
  "language_info": {
   "codemirror_mode": {
    "name": "ipython",
    "version": 3
   },
   "file_extension": ".py",
   "mimetype": "text/x-python",
   "name": "python",
   "nbconvert_exporter": "python",
   "pygments_lexer": "ipython3",
   "version": "3.7.1"
  }
 },
 "nbformat": 4,
 "nbformat_minor": 2
}
